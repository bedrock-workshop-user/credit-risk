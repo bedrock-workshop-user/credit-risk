{
 "cells": [
  {
   "cell_type": "markdown",
   "metadata": {},
   "source": [
    "# Using Bedrock ModelAnalyzer"
   ]
  },
  {
   "cell_type": "code",
   "execution_count": null,
   "metadata": {},
   "outputs": [],
   "source": [
    "import pickle\n",
    "\n",
    "import numpy as np\n",
    "import pandas as pd\n",
    "import lightgbm as lgb\n",
    "from bedrock_client.bedrock.analyzer.model_analyzer import ModelAnalyzer\n",
    "from bedrock_client.bedrock.analyzer import ModelTypes\n",
    "\n",
    "from preprocess.constants import FEATURES, TARGET, CONFIG_FAI"
   ]
  },
  {
   "cell_type": "markdown",
   "metadata": {},
   "source": [
    "##  Load model and test dataset\n",
    "\n",
    "Here we use our model artefact trained elsewhere."
   ]
  },
  {
   "cell_type": "code",
   "execution_count": null,
   "metadata": {},
   "outputs": [],
   "source": [
    "model = pickle.load(open(\"output/lgb_model.pkl\", \"rb\"))"
   ]
  },
  {
   "cell_type": "code",
   "execution_count": null,
   "metadata": {},
   "outputs": [],
   "source": [
    "test_df = pd.read_parquet(\"output/test.gz.parquet\")\n",
    "x_test = test_df[FEATURES]\n",
    "y_test = test_df[TARGET].values"
   ]
  },
  {
   "cell_type": "code",
   "execution_count": null,
   "metadata": {},
   "outputs": [],
   "source": [
    "# Predict\n",
    "y_pred = model.predict(x_test)"
   ]
  },
  {
   "cell_type": "markdown",
   "metadata": {},
   "source": [
    "## Explainability and Fairness using ModelAnalyzer\n",
    "\n",
    "We shall use `bedrock_client.bedrock.analyzer.model_analyzer.ModelAnalyzer` to generate model explainability analysis and fairness metrics locally. You can use it to generate and log them in Bedrock.\n",
    "\n",
    "Refer to [documentation](https://docs.basis-ai.com/guides/explainability-and-fairness) and [API references](https://docs.basis-ai.com/guides/explainability-and-fairness/api-references) for more details."
   ]
  },
  {
   "cell_type": "code",
   "execution_count": null,
   "metadata": {},
   "outputs": [],
   "source": [
    "analyzer = ModelAnalyzer(model, \"credit_risk\", model_type=ModelTypes.TREE)\n",
    "\n",
    "# To set test data used for calculating explainability\n",
    "analyzer.test_features(x_test)\n",
    "analyzer.stored_sample_limit(sample_limit=None)  # To output all SHAP values for the test data\n",
    "\n",
    "# To set fairness configuration, groundtruth labels and model inference results for generating fairness metrics\n",
    "analyzer.fairness_config(CONFIG_FAI).test_labels(y_test).test_inference(y_pred)\n",
    "\n",
    "(shap_values, base_values, global_xai_data, fairness_metrics) = analyzer.analyze()"
   ]
  },
  {
   "cell_type": "markdown",
   "metadata": {},
   "source": [
    "## Analyzer outputs\n",
    "\n",
    "### SHAP values\n",
    "Array of SHAP values calculated on provided `test_features`"
   ]
  },
  {
   "cell_type": "code",
   "execution_count": null,
   "metadata": {},
   "outputs": [],
   "source": [
    "shap_values"
   ]
  },
  {
   "cell_type": "markdown",
   "metadata": {},
   "source": [
    "### Base value\n",
    "Base value is the average model output calculated on background data"
   ]
  },
  {
   "cell_type": "code",
   "execution_count": null,
   "metadata": {},
   "outputs": [],
   "source": [
    "base_values"
   ]
  },
  {
   "cell_type": "markdown",
   "metadata": {},
   "source": [
    "### Global XAI data\n",
    "Global XAI returns the mean absolute shap values of each feature, together with its correlation with said feature"
   ]
  },
  {
   "cell_type": "code",
   "execution_count": null,
   "metadata": {},
   "outputs": [],
   "source": [
    "global_xai_data.keys()"
   ]
  },
  {
   "cell_type": "code",
   "execution_count": null,
   "metadata": {},
   "outputs": [],
   "source": [
    "global_xai_data[\"class 1\"][\"EXT_SOURCE_1\"]"
   ]
  },
  {
   "cell_type": "markdown",
   "metadata": {},
   "source": [
    "### Fairness metrics\n",
    "\n",
    "Since fairness config is passed, the model analyzer also returns the fairness metrics."
   ]
  },
  {
   "cell_type": "code",
   "execution_count": null,
   "metadata": {},
   "outputs": [],
   "source": [
    "fairness_metrics.keys()"
   ]
  },
  {
   "cell_type": "code",
   "execution_count": null,
   "metadata": {},
   "outputs": [],
   "source": [
    "fairness_df, confusion_matrices = fairness_metrics[\"CODE_GENDER\"][\"class 1\"]"
   ]
  },
  {
   "cell_type": "code",
   "execution_count": null,
   "metadata": {},
   "outputs": [],
   "source": [
    "fairness_df"
   ]
  },
  {
   "cell_type": "code",
   "execution_count": null,
   "metadata": {},
   "outputs": [],
   "source": [
    "confusion_matrices"
   ]
  },
  {
   "cell_type": "markdown",
   "metadata": {},
   "source": [
    "## Optional: Plotting explainability\n",
    "\n",
    "Using the compute SHAP values and `shap.summary_plot`, we can obtain a preliminary view of the effects of the top features."
   ]
  },
  {
   "cell_type": "code",
   "execution_count": null,
   "metadata": {},
   "outputs": [],
   "source": [
    "import shap\n",
    "\n",
    "# We use the SHAP values that correspond to `TARGET=1`, ie shap_values[1]\n",
    "shap.summary_plot(shap_values[1], x_test, plot_type=\"bar\", max_display=10)\n",
    "shap.summary_plot(shap_values[1], x_test, max_display=10)"
   ]
  },
  {
   "cell_type": "code",
   "execution_count": null,
   "metadata": {},
   "outputs": [],
   "source": []
  }
 ],
 "metadata": {
  "kernelspec": {
   "display_name": "Python 3",
   "language": "python",
   "name": "python3"
  },
  "language_info": {
   "codemirror_mode": {
    "name": "ipython",
    "version": 3
   },
   "file_extension": ".py",
   "mimetype": "text/x-python",
   "name": "python",
   "nbconvert_exporter": "python",
   "pygments_lexer": "ipython3",
   "version": "3.7.4"
  }
 },
 "nbformat": 4,
 "nbformat_minor": 2
}
