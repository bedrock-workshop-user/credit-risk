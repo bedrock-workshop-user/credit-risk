{
 "cells": [
  {
   "cell_type": "code",
   "execution_count": null,
   "metadata": {},
   "outputs": [],
   "source": [
    "# Private HTTP Endpoint\n",
    "# Pattern follows: 'http://<model-server-id>.deployment.svc.cluster.local:16030'\n",
    "MODEL_ENDPOINT = 'http://rapid-wind-4705-9f1ffae3.deployment.svc.cluster.local:16030'\n",
    "MODEL_METRICS_ENDPOINT = MODEL_ENDPOINT + \"/metrics\"\n",
    "MODEL_INFER_ENDPOINT = MODEL_ENDPOINT + \"/\""
   ]
  },
  {
   "cell_type": "markdown",
   "metadata": {},
   "source": [
    "# Endpoint Ping using Pycurl"
   ]
  },
  {
   "cell_type": "code",
   "execution_count": null,
   "metadata": {},
   "outputs": [],
   "source": [
    "import pycurl\n",
    "from io import BytesIO \n",
    "from IPython.core.display import display, HTML\n",
    "\n",
    "def ping_homepage(url):\n",
    "\n",
    "    b_obj = BytesIO() \n",
    "    crl = pycurl.Curl() \n",
    "\n",
    "    # Set URL value\n",
    "    crl.setopt(crl.URL, url)\n",
    "    # Write bytes that are utf-8 encoded\n",
    "    crl.setopt(crl.WRITEDATA, b_obj)\n",
    "    # Perform the request\n",
    "    crl.perform() \n",
    "    # End curl session\n",
    "    crl.close()\n",
    "    # Get the content stored in the BytesIO object (in byte characters) \n",
    "    get_body = b_obj.getvalue()\n",
    "    # Decode the bytes stored in get_body to HTML and print the result \n",
    "    # print('Output of GET request:\\n%s' % get_body.decode('utf8')) \n",
    "    display(HTML(get_body.decode('utf8')))\n",
    "    \n",
    "ping_homepage(MODEL_ENDPOINT)"
   ]
  },
  {
   "cell_type": "markdown",
   "metadata": {},
   "source": [
    "# Testing the model inference"
   ]
  },
  {
   "cell_type": "code",
   "execution_count": null,
   "metadata": {},
   "outputs": [],
   "source": [
    "import pandas as pd\n",
    "import json\n",
    "\n",
    "test_df = pd.read_parquet(\"output/test.gz.parquet\")"
   ]
  },
  {
   "cell_type": "code",
   "execution_count": null,
   "metadata": {},
   "outputs": [],
   "source": [
    "test_df.head()"
   ]
  },
  {
   "cell_type": "code",
   "execution_count": null,
   "metadata": {},
   "outputs": [],
   "source": [
    "# Maps data column name to json key\n",
    "FEATURES = {\n",
    "    'SK_ID_CURR':'sk_id'\n",
    "}"
   ]
  },
  {
   "cell_type": "code",
   "execution_count": null,
   "metadata": {},
   "outputs": [],
   "source": [
    "def get_row_of_data(df, row_index=0):\n",
    "    row = df.iloc[row_index]    \n",
    "    data = {}\n",
    "    for feat in FEATURES:\n",
    "        data[FEATURES[feat]] = int(row[feat])\n",
    "\n",
    "    return data\n"
   ]
  },
  {
   "cell_type": "code",
   "execution_count": null,
   "metadata": {},
   "outputs": [],
   "source": [
    "# Prepare a single row of data\n",
    "data = get_row_of_data(test_df, 0)\n",
    "data"
   ]
  },
  {
   "cell_type": "code",
   "execution_count": null,
   "metadata": {},
   "outputs": [],
   "source": [
    "# Model Deployment: Endpoint URL\n",
    "headers = {\n",
    "    'Content-Type': 'application/json'\n",
    "}\n",
    "\n",
    "response = requests.post(MODEL_INFER_ENDPOINT, headers=headers, data=json.dumps(data))\n",
    "print(response.ok)\n",
    "print(response.json())"
   ]
  },
  {
   "cell_type": "code",
   "execution_count": null,
   "metadata": {},
   "outputs": [],
   "source": [
    "# response.content"
   ]
  },
  {
   "cell_type": "code",
   "execution_count": null,
   "metadata": {},
   "outputs": [],
   "source": [
    "# response.text"
   ]
  }
 ],
 "metadata": {
  "kernelspec": {
   "display_name": "Python 3",
   "language": "python",
   "name": "python3"
  },
  "language_info": {
   "codemirror_mode": {
    "name": "ipython",
    "version": 3
   },
   "file_extension": ".py",
   "mimetype": "text/x-python",
   "name": "python",
   "nbconvert_exporter": "python",
   "pygments_lexer": "ipython3",
   "version": "3.8.5"
  }
 },
 "nbformat": 4,
 "nbformat_minor": 4
}
